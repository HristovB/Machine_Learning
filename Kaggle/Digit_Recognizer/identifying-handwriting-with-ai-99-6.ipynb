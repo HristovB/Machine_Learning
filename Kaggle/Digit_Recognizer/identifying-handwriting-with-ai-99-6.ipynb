{
 "cells": [
  {
   "cell_type": "markdown",
   "metadata": {
    "papermill": {
     "duration": 0.022884,
     "end_time": "2021-01-14T21:32:52.569438",
     "exception": false,
     "start_time": "2021-01-14T21:32:52.546554",
     "status": "completed"
    },
    "tags": []
   },
   "source": [
    "# AI leads the way to computer vision\n",
    "\n",
    "Most traditional methods of analysing and processing of images and video have been quickly surpassed by the power of artificial intelligence and deep learning. Convolutional Neural Networks, that work on the same basic principal as the neurons in the visual cortex, can analyse images and identify objects in them with staggering accuracy.\n",
    "\n",
    "This is why for the solution to the problem of recognizing handwritten digits, CNNs are the best approach to use."
   ]
  },
  {
   "cell_type": "markdown",
   "metadata": {
    "papermill": {
     "duration": 0.021308,
     "end_time": "2021-01-14T21:32:52.612187",
     "exception": false,
     "start_time": "2021-01-14T21:32:52.590879",
     "status": "completed"
    },
    "tags": []
   },
   "source": [
    "## Importing the libraries\n",
    "\n",
    "First we need to import the basic libraries that we will use for preprocessing and visualization of the data."
   ]
  },
  {
   "cell_type": "code",
   "execution_count": 1,
   "metadata": {
    "execution": {
     "iopub.execute_input": "2021-01-14T21:32:52.662302Z",
     "iopub.status.busy": "2021-01-14T21:32:52.661480Z",
     "iopub.status.idle": "2021-01-14T21:32:52.664417Z",
     "shell.execute_reply": "2021-01-14T21:32:52.663789Z"
    },
    "papermill": {
     "duration": 0.030785,
     "end_time": "2021-01-14T21:32:52.664515",
     "exception": false,
     "start_time": "2021-01-14T21:32:52.633730",
     "status": "completed"
    },
    "tags": []
   },
   "outputs": [],
   "source": [
    "import numpy as np\n",
    "import pandas as pd\n",
    "from matplotlib import pyplot as plt"
   ]
  },
  {
   "cell_type": "markdown",
   "metadata": {
    "papermill": {
     "duration": 0.020814,
     "end_time": "2021-01-14T21:32:52.707135",
     "exception": false,
     "start_time": "2021-01-14T21:32:52.686321",
     "status": "completed"
    },
    "tags": []
   },
   "source": [
    "## Loading the data\n",
    "\n",
    "Next, we load the training and test datasets into separate variables using *Pandas*."
   ]
  },
  {
   "cell_type": "code",
   "execution_count": 2,
   "metadata": {
    "_cell_guid": "b1076dfc-b9ad-4769-8c92-a6c4dae69d19",
    "_uuid": "8f2839f25d086af736a60e9eeb907d3b93b6e0e5",
    "execution": {
     "iopub.execute_input": "2021-01-14T21:32:52.752465Z",
     "iopub.status.busy": "2021-01-14T21:32:52.751484Z",
     "iopub.status.idle": "2021-01-14T21:32:59.854582Z",
     "shell.execute_reply": "2021-01-14T21:32:59.855115Z"
    },
    "papermill": {
     "duration": 7.127009,
     "end_time": "2021-01-14T21:32:59.855281",
     "exception": false,
     "start_time": "2021-01-14T21:32:52.728272",
     "status": "completed"
    },
    "tags": []
   },
   "outputs": [
    {
     "data": {
      "text/html": [
       "<div>\n",
       "<style scoped>\n",
       "    .dataframe tbody tr th:only-of-type {\n",
       "        vertical-align: middle;\n",
       "    }\n",
       "\n",
       "    .dataframe tbody tr th {\n",
       "        vertical-align: top;\n",
       "    }\n",
       "\n",
       "    .dataframe thead th {\n",
       "        text-align: right;\n",
       "    }\n",
       "</style>\n",
       "<table border=\"1\" class=\"dataframe\">\n",
       "  <thead>\n",
       "    <tr style=\"text-align: right;\">\n",
       "      <th></th>\n",
       "      <th>label</th>\n",
       "      <th>pixel0</th>\n",
       "      <th>pixel1</th>\n",
       "      <th>pixel2</th>\n",
       "      <th>pixel3</th>\n",
       "      <th>pixel4</th>\n",
       "      <th>pixel5</th>\n",
       "      <th>pixel6</th>\n",
       "      <th>pixel7</th>\n",
       "      <th>pixel8</th>\n",
       "      <th>...</th>\n",
       "      <th>pixel774</th>\n",
       "      <th>pixel775</th>\n",
       "      <th>pixel776</th>\n",
       "      <th>pixel777</th>\n",
       "      <th>pixel778</th>\n",
       "      <th>pixel779</th>\n",
       "      <th>pixel780</th>\n",
       "      <th>pixel781</th>\n",
       "      <th>pixel782</th>\n",
       "      <th>pixel783</th>\n",
       "    </tr>\n",
       "  </thead>\n",
       "  <tbody>\n",
       "    <tr>\n",
       "      <th>0</th>\n",
       "      <td>1</td>\n",
       "      <td>0</td>\n",
       "      <td>0</td>\n",
       "      <td>0</td>\n",
       "      <td>0</td>\n",
       "      <td>0</td>\n",
       "      <td>0</td>\n",
       "      <td>0</td>\n",
       "      <td>0</td>\n",
       "      <td>0</td>\n",
       "      <td>...</td>\n",
       "      <td>0</td>\n",
       "      <td>0</td>\n",
       "      <td>0</td>\n",
       "      <td>0</td>\n",
       "      <td>0</td>\n",
       "      <td>0</td>\n",
       "      <td>0</td>\n",
       "      <td>0</td>\n",
       "      <td>0</td>\n",
       "      <td>0</td>\n",
       "    </tr>\n",
       "    <tr>\n",
       "      <th>1</th>\n",
       "      <td>0</td>\n",
       "      <td>0</td>\n",
       "      <td>0</td>\n",
       "      <td>0</td>\n",
       "      <td>0</td>\n",
       "      <td>0</td>\n",
       "      <td>0</td>\n",
       "      <td>0</td>\n",
       "      <td>0</td>\n",
       "      <td>0</td>\n",
       "      <td>...</td>\n",
       "      <td>0</td>\n",
       "      <td>0</td>\n",
       "      <td>0</td>\n",
       "      <td>0</td>\n",
       "      <td>0</td>\n",
       "      <td>0</td>\n",
       "      <td>0</td>\n",
       "      <td>0</td>\n",
       "      <td>0</td>\n",
       "      <td>0</td>\n",
       "    </tr>\n",
       "    <tr>\n",
       "      <th>2</th>\n",
       "      <td>1</td>\n",
       "      <td>0</td>\n",
       "      <td>0</td>\n",
       "      <td>0</td>\n",
       "      <td>0</td>\n",
       "      <td>0</td>\n",
       "      <td>0</td>\n",
       "      <td>0</td>\n",
       "      <td>0</td>\n",
       "      <td>0</td>\n",
       "      <td>...</td>\n",
       "      <td>0</td>\n",
       "      <td>0</td>\n",
       "      <td>0</td>\n",
       "      <td>0</td>\n",
       "      <td>0</td>\n",
       "      <td>0</td>\n",
       "      <td>0</td>\n",
       "      <td>0</td>\n",
       "      <td>0</td>\n",
       "      <td>0</td>\n",
       "    </tr>\n",
       "    <tr>\n",
       "      <th>3</th>\n",
       "      <td>4</td>\n",
       "      <td>0</td>\n",
       "      <td>0</td>\n",
       "      <td>0</td>\n",
       "      <td>0</td>\n",
       "      <td>0</td>\n",
       "      <td>0</td>\n",
       "      <td>0</td>\n",
       "      <td>0</td>\n",
       "      <td>0</td>\n",
       "      <td>...</td>\n",
       "      <td>0</td>\n",
       "      <td>0</td>\n",
       "      <td>0</td>\n",
       "      <td>0</td>\n",
       "      <td>0</td>\n",
       "      <td>0</td>\n",
       "      <td>0</td>\n",
       "      <td>0</td>\n",
       "      <td>0</td>\n",
       "      <td>0</td>\n",
       "    </tr>\n",
       "    <tr>\n",
       "      <th>4</th>\n",
       "      <td>0</td>\n",
       "      <td>0</td>\n",
       "      <td>0</td>\n",
       "      <td>0</td>\n",
       "      <td>0</td>\n",
       "      <td>0</td>\n",
       "      <td>0</td>\n",
       "      <td>0</td>\n",
       "      <td>0</td>\n",
       "      <td>0</td>\n",
       "      <td>...</td>\n",
       "      <td>0</td>\n",
       "      <td>0</td>\n",
       "      <td>0</td>\n",
       "      <td>0</td>\n",
       "      <td>0</td>\n",
       "      <td>0</td>\n",
       "      <td>0</td>\n",
       "      <td>0</td>\n",
       "      <td>0</td>\n",
       "      <td>0</td>\n",
       "    </tr>\n",
       "  </tbody>\n",
       "</table>\n",
       "<p>5 rows × 785 columns</p>\n",
       "</div>"
      ],
      "text/plain": [
       "   label  pixel0  pixel1  pixel2  pixel3  pixel4  pixel5  pixel6  pixel7  \\\n",
       "0      1       0       0       0       0       0       0       0       0   \n",
       "1      0       0       0       0       0       0       0       0       0   \n",
       "2      1       0       0       0       0       0       0       0       0   \n",
       "3      4       0       0       0       0       0       0       0       0   \n",
       "4      0       0       0       0       0       0       0       0       0   \n",
       "\n",
       "   pixel8  ...  pixel774  pixel775  pixel776  pixel777  pixel778  pixel779  \\\n",
       "0       0  ...         0         0         0         0         0         0   \n",
       "1       0  ...         0         0         0         0         0         0   \n",
       "2       0  ...         0         0         0         0         0         0   \n",
       "3       0  ...         0         0         0         0         0         0   \n",
       "4       0  ...         0         0         0         0         0         0   \n",
       "\n",
       "   pixel780  pixel781  pixel782  pixel783  \n",
       "0         0         0         0         0  \n",
       "1         0         0         0         0  \n",
       "2         0         0         0         0  \n",
       "3         0         0         0         0  \n",
       "4         0         0         0         0  \n",
       "\n",
       "[5 rows x 785 columns]"
      ]
     },
     "execution_count": 2,
     "metadata": {},
     "output_type": "execute_result"
    }
   ],
   "source": [
    "train_data = pd.read_csv('../input/digit-recognizer/train.csv')\n",
    "test_data = pd.read_csv('../input/digit-recognizer/test.csv')\n",
    "\n",
    "train_data.head()"
   ]
  },
  {
   "cell_type": "markdown",
   "metadata": {
    "papermill": {
     "duration": 0.024536,
     "end_time": "2021-01-14T21:32:59.905072",
     "exception": false,
     "start_time": "2021-01-14T21:32:59.880536",
     "status": "completed"
    },
    "tags": []
   },
   "source": [
    "We can see that the training dataset consists of one column for the label (which represents what digit was written), and 784 columns for each pixel of the image that contains the handwritten digit. To be able to use a 2D Convolutional Neural Network, we need to reshape the data so we can get the actual image of the digit."
   ]
  },
  {
   "cell_type": "code",
   "execution_count": 3,
   "metadata": {
    "execution": {
     "iopub.execute_input": "2021-01-14T21:32:59.960263Z",
     "iopub.status.busy": "2021-01-14T21:32:59.959482Z",
     "iopub.status.idle": "2021-01-14T21:32:59.965861Z",
     "shell.execute_reply": "2021-01-14T21:32:59.965194Z"
    },
    "papermill": {
     "duration": 0.035845,
     "end_time": "2021-01-14T21:32:59.965994",
     "exception": false,
     "start_time": "2021-01-14T21:32:59.930149",
     "status": "completed"
    },
    "tags": []
   },
   "outputs": [
    {
     "data": {
      "text/plain": [
       "(42000, 785)"
      ]
     },
     "execution_count": 3,
     "metadata": {},
     "output_type": "execute_result"
    }
   ],
   "source": [
    "train_data.shape"
   ]
  },
  {
   "cell_type": "markdown",
   "metadata": {
    "papermill": {
     "duration": 0.024887,
     "end_time": "2021-01-14T21:33:00.015965",
     "exception": false,
     "start_time": "2021-01-14T21:32:59.991078",
     "status": "completed"
    },
    "tags": []
   },
   "source": [
    "# Reshaping the data\n",
    "\n",
    "The current shape of the training dataset given above tells us that there are 42000 images which are represented by 784 pixels (plus one column for the label). That means that in order to get a perfect square image, the dimensions of the pixel need to be ($\\sqrt{784}, \\sqrt{784}$), or (28, 28) pixels. "
   ]
  },
  {
   "cell_type": "markdown",
   "metadata": {
    "papermill": {
     "duration": 0.023751,
     "end_time": "2021-01-14T21:33:00.064191",
     "exception": false,
     "start_time": "2021-01-14T21:33:00.040440",
     "status": "completed"
    },
    "tags": []
   },
   "source": [
    "## Separating the label column\n",
    "\n",
    "In order to reshape the data, first we must separate the labels from the feature map."
   ]
  },
  {
   "cell_type": "code",
   "execution_count": 4,
   "metadata": {
    "execution": {
     "iopub.execute_input": "2021-01-14T21:33:00.203516Z",
     "iopub.status.busy": "2021-01-14T21:33:00.201314Z",
     "iopub.status.idle": "2021-01-14T21:33:00.204388Z",
     "shell.execute_reply": "2021-01-14T21:33:00.204930Z"
    },
    "papermill": {
     "duration": 0.116599,
     "end_time": "2021-01-14T21:33:00.205076",
     "exception": false,
     "start_time": "2021-01-14T21:33:00.088477",
     "status": "completed"
    },
    "tags": []
   },
   "outputs": [],
   "source": [
    "train_labels = train_data['label']\n",
    "train_data = train_data.drop('label', axis=1)"
   ]
  },
  {
   "cell_type": "markdown",
   "metadata": {
    "papermill": {
     "duration": 0.026937,
     "end_time": "2021-01-14T21:33:00.256770",
     "exception": false,
     "start_time": "2021-01-14T21:33:00.229833",
     "status": "completed"
    },
    "tags": []
   },
   "source": [
    "## Reshaping the datasets\n",
    "\n",
    "As mentioned previously, the required shape of each image is 28x28 pixels, and we can easily achieve that using the *NumPy* function *reshape*."
   ]
  },
  {
   "cell_type": "code",
   "execution_count": 5,
   "metadata": {
    "_cell_guid": "79c7e3d0-c299-4dcb-8224-4455121ee9b0",
    "_uuid": "d629ff2d2480ee46fbb7e2d37f6b5fab8052498a",
    "execution": {
     "iopub.execute_input": "2021-01-14T21:33:00.316185Z",
     "iopub.status.busy": "2021-01-14T21:33:00.315111Z",
     "iopub.status.idle": "2021-01-14T21:33:00.320739Z",
     "shell.execute_reply": "2021-01-14T21:33:00.320160Z"
    },
    "papermill": {
     "duration": 0.037622,
     "end_time": "2021-01-14T21:33:00.320843",
     "exception": false,
     "start_time": "2021-01-14T21:33:00.283221",
     "status": "completed"
    },
    "tags": []
   },
   "outputs": [
    {
     "data": {
      "text/plain": [
       "(42000, 28, 28)"
      ]
     },
     "execution_count": 5,
     "metadata": {},
     "output_type": "execute_result"
    }
   ],
   "source": [
    "train_data = train_data.values[:, :, np.newaxis].reshape(-1, 28, 28)\n",
    "test_data = test_data.values[:, :, np.newaxis].reshape(-1, 28, 28)\n",
    "\n",
    "train_data.shape"
   ]
  },
  {
   "cell_type": "markdown",
   "metadata": {
    "papermill": {
     "duration": 0.024999,
     "end_time": "2021-01-14T21:33:00.371219",
     "exception": false,
     "start_time": "2021-01-14T21:33:00.346220",
     "status": "completed"
    },
    "tags": []
   },
   "source": [
    "We can observe that the training data now has a shape of (42000, 28, 28), which represents the 42000 images of handwritten digits, with dimensions 28x28."
   ]
  },
  {
   "cell_type": "markdown",
   "metadata": {
    "papermill": {
     "duration": 0.026039,
     "end_time": "2021-01-14T21:33:00.422657",
     "exception": false,
     "start_time": "2021-01-14T21:33:00.396618",
     "status": "completed"
    },
    "tags": []
   },
   "source": [
    "# Visualization of the data\n",
    "\n",
    "Before moving on, we can visualize the images of the digits to get a better understanding of how they look. This can be easily done using the *matplotlib* library.\n",
    "\n",
    "We will plot 9 random images from the dataset that will be picked at random."
   ]
  },
  {
   "cell_type": "code",
   "execution_count": 6,
   "metadata": {
    "execution": {
     "iopub.execute_input": "2021-01-14T21:33:00.496745Z",
     "iopub.status.busy": "2021-01-14T21:33:00.496020Z",
     "iopub.status.idle": "2021-01-14T21:33:02.110025Z",
     "shell.execute_reply": "2021-01-14T21:33:02.110642Z"
    },
    "papermill": {
     "duration": 1.663463,
     "end_time": "2021-01-14T21:33:02.110804",
     "exception": false,
     "start_time": "2021-01-14T21:33:00.447341",
     "status": "completed"
    },
    "tags": []
   },
   "outputs": [
    {
     "data": {
      "image/png": "[encoded data removed]",
      "text/plain": [
       "<Figure size 720x720 with 9 Axes>"
      ]
     },
     "metadata": {
      "needs_background": "light"
     },
     "output_type": "display_data"
    }
   ],
   "source": [
    "np.random.seed(157)\n",
    "\n",
    "idxs = np.random.randint(0, train_data.shape[0], 9)\n",
    "\n",
    "fig, ax = plt.subplots(3, 3, figsize=(10, 10))\n",
    "\n",
    "ax[0, 0].imshow(train_data[idxs[0], :, :], cmap='Greys')\n",
    "ax[0, 0].set_title('Handwritten number ' + str(train_labels[idxs[0]]))\n",
    "\n",
    "ax[0, 1].imshow(train_data[idxs[1], :, :], cmap='Greys')\n",
    "ax[0, 1].set_title('Handwritten number ' + str(train_labels[idxs[1]]))\n",
    "\n",
    "ax[0, 2].imshow(train_data[idxs[2], :, :], cmap='Greys')\n",
    "ax[0, 2].set_title('Handwritten number ' + str(train_labels[idxs[2]]))\n",
    "\n",
    "ax[1, 0].imshow(train_data[idxs[3], :, :], cmap='Greys')\n",
    "ax[1, 0].set_title('Handwritten number ' + str(train_labels[idxs[3]]))\n",
    "\n",
    "ax[1, 1].imshow(train_data[idxs[4], :, :], cmap='Greys')\n",
    "ax[1, 1].set_title('Handwritten number ' + str(train_labels[idxs[4]]))\n",
    "\n",
    "ax[1, 2].imshow(train_data[idxs[5], :, :], cmap='Greys')\n",
    "ax[1, 2].set_title('Handwritten number ' + str(train_labels[idxs[5]]))\n",
    "\n",
    "ax[2, 0].imshow(train_data[idxs[6], :, :], cmap='Greys')\n",
    "ax[2, 0].set_title('Handwritten number ' + str(train_labels[idxs[6]]))\n",
    "\n",
    "ax[2, 1].imshow(train_data[idxs[7], :, :], cmap='Greys')\n",
    "ax[2, 1].set_title('Handwritten number ' + str(train_labels[idxs[7]]))\n",
    "\n",
    "ax[2, 2].imshow(train_data[idxs[8], :, :], cmap='Greys')\n",
    "ax[2, 2].set_title('Handwritten number ' + str(train_labels[idxs[8]]))\n",
    "\n",
    "plt.tight_layout()"
   ]
  },
  {
   "cell_type": "markdown",
   "metadata": {
    "papermill": {
     "duration": 0.027687,
     "end_time": "2021-01-14T21:33:02.168586",
     "exception": false,
     "start_time": "2021-01-14T21:33:02.140899",
     "status": "completed"
    },
    "tags": []
   },
   "source": [
    "As we can see, some of these numbers are written with very poor handwritting that can even confuse a human, meaning the CNN will have quite a difficult task to acomplish."
   ]
  },
  {
   "cell_type": "markdown",
   "metadata": {
    "papermill": {
     "duration": 0.025762,
     "end_time": "2021-01-14T21:33:02.219678",
     "exception": false,
     "start_time": "2021-01-14T21:33:02.193916",
     "status": "completed"
    },
    "tags": []
   },
   "source": [
    "# Classification"
   ]
  },
  {
   "cell_type": "markdown",
   "metadata": {
    "papermill": {
     "duration": 0.025514,
     "end_time": "2021-01-14T21:33:02.271200",
     "exception": false,
     "start_time": "2021-01-14T21:33:02.245686",
     "status": "completed"
    },
    "tags": []
   },
   "source": [
    "## Preparing the data for classification\n",
    "\n",
    "There are a couple of preprocessing steps we need to complete before the training of the model:\n",
    "\n",
    "* First, the training labels need to be one-hot encoded so we can use a softmax output layer at the end of the network.\n",
    "* Next, we need to normalize the values of the data between 0 and 1, which leads to an improvement of the results of the classification.\n",
    "* We also need to reshape the data again by adding a new fourth axis which represents the color channel of the image.\n",
    "* Finally, we need to create a new dataset which will be used for validation during the training phase of the network."
   ]
  },
  {
   "cell_type": "markdown",
   "metadata": {
    "papermill": {
     "duration": 0.026783,
     "end_time": "2021-01-14T21:33:02.323801",
     "exception": false,
     "start_time": "2021-01-14T21:33:02.297018",
     "status": "completed"
    },
    "tags": []
   },
   "source": [
    "### One-hot encoding the labels\n",
    "\n",
    "One-hot encodin the labels so we can use the *softmax* output layer with the *categorical crossentropy* loss function."
   ]
  },
  {
   "cell_type": "code",
   "execution_count": 7,
   "metadata": {
    "execution": {
     "iopub.execute_input": "2021-01-14T21:33:02.382043Z",
     "iopub.status.busy": "2021-01-14T21:33:02.381197Z",
     "iopub.status.idle": "2021-01-14T21:33:03.149837Z",
     "shell.execute_reply": "2021-01-14T21:33:03.150484Z"
    },
    "papermill": {
     "duration": 0.800821,
     "end_time": "2021-01-14T21:33:03.150635",
     "exception": false,
     "start_time": "2021-01-14T21:33:02.349814",
     "status": "completed"
    },
    "tags": []
   },
   "outputs": [],
   "source": [
    "from sklearn.preprocessing import LabelBinarizer\n",
    "\n",
    "encoder = LabelBinarizer()\n",
    "train_labels = encoder.fit_transform(train_labels)"
   ]
  },
  {
   "cell_type": "markdown",
   "metadata": {
    "papermill": {
     "duration": 0.060509,
     "end_time": "2021-01-14T21:33:03.238906",
     "exception": false,
     "start_time": "2021-01-14T21:33:03.178397",
     "status": "completed"
    },
    "tags": []
   },
   "source": [
    "### Normalization\n",
    "\n",
    "Scaling the values of the pixels of the images in range between 0 and 1."
   ]
  },
  {
   "cell_type": "code",
   "execution_count": 8,
   "metadata": {
    "execution": {
     "iopub.execute_input": "2021-01-14T21:33:03.298515Z",
     "iopub.status.busy": "2021-01-14T21:33:03.297358Z",
     "iopub.status.idle": "2021-01-14T21:33:03.425995Z",
     "shell.execute_reply": "2021-01-14T21:33:03.425336Z"
    },
    "papermill": {
     "duration": 0.16068,
     "end_time": "2021-01-14T21:33:03.426134",
     "exception": false,
     "start_time": "2021-01-14T21:33:03.265454",
     "status": "completed"
    },
    "tags": []
   },
   "outputs": [],
   "source": [
    "train_data = train_data.astype('float32') / 255\n",
    "test_data = test_data.astype('float32') / 255"
   ]
  },
  {
   "cell_type": "markdown",
   "metadata": {
    "papermill": {
     "duration": 0.025272,
     "end_time": "2021-01-14T21:33:03.477892",
     "exception": false,
     "start_time": "2021-01-14T21:33:03.452620",
     "status": "completed"
    },
    "tags": []
   },
   "source": [
    "### Reshaping the data\n",
    "\n",
    "2D convolutional neural networks require the images to be 3D, where one of the dimensions represents the colour channel. Seeing as our images are black and white, we simply add an empty new axis at the end of the data."
   ]
  },
  {
   "cell_type": "code",
   "execution_count": 9,
   "metadata": {
    "execution": {
     "iopub.execute_input": "2021-01-14T21:33:03.533990Z",
     "iopub.status.busy": "2021-01-14T21:33:03.533343Z",
     "iopub.status.idle": "2021-01-14T21:33:03.537909Z",
     "shell.execute_reply": "2021-01-14T21:33:03.537394Z"
    },
    "papermill": {
     "duration": 0.03462,
     "end_time": "2021-01-14T21:33:03.538011",
     "exception": false,
     "start_time": "2021-01-14T21:33:03.503391",
     "status": "completed"
    },
    "tags": []
   },
   "outputs": [],
   "source": [
    "train_data = train_data[:, :, :, np.newaxis]\n",
    "test_data = test_data[:, :, :, np.newaxis]"
   ]
  },
  {
   "cell_type": "markdown",
   "metadata": {
    "papermill": {
     "duration": 0.025969,
     "end_time": "2021-01-14T21:33:03.589893",
     "exception": false,
     "start_time": "2021-01-14T21:33:03.563924",
     "status": "completed"
    },
    "tags": []
   },
   "source": [
    "### Creating the validation dataset\n",
    "\n",
    "During the training, the network requires a validation dataset to be able to calculate its performace. We can create this dataset by setting aside 10% of the training data to be used as validation, using the *train_test_split* function from the *sklearn* library."
   ]
  },
  {
   "cell_type": "code",
   "execution_count": 10,
   "metadata": {
    "execution": {
     "iopub.execute_input": "2021-01-14T21:33:03.647731Z",
     "iopub.status.busy": "2021-01-14T21:33:03.646870Z",
     "iopub.status.idle": "2021-01-14T21:33:04.871749Z",
     "shell.execute_reply": "2021-01-14T21:33:04.870960Z"
    },
    "papermill": {
     "duration": 1.256188,
     "end_time": "2021-01-14T21:33:04.871872",
     "exception": false,
     "start_time": "2021-01-14T21:33:03.615684",
     "status": "completed"
    },
    "tags": []
   },
   "outputs": [],
   "source": [
    "from sklearn.model_selection import train_test_split\n",
    "\n",
    "X_train, X_val, y_train, y_val = train_test_split(train_data, train_labels, test_size=0.1, random_state=157, stratify=train_labels)"
   ]
  },
  {
   "cell_type": "markdown",
   "metadata": {
    "papermill": {
     "duration": 0.027988,
     "end_time": "2021-01-14T21:33:04.927690",
     "exception": false,
     "start_time": "2021-01-14T21:33:04.899702",
     "status": "completed"
    },
    "tags": []
   },
   "source": [
    "## Data Augmentation\n",
    "\n",
    "Before training, a good practice to use (especially when working with image data) is to perform data augmentation. This can be easily done using the *ImageDataGenerator* function from the *Keras* library.\n",
    "\n",
    "We augment the images in the training set by performing certain transformations upon them, such as:\n",
    "\n",
    "* Rotating by 10 degrees\n",
    "* Zooming by 10%\n",
    "* Horizontal and vertical shift of the image by 10%\n",
    "\n",
    "Flipping and whitening of the images is not performed due to the possibilty of hurting the final results rather than aiding them."
   ]
  },
  {
   "cell_type": "code",
   "execution_count": 11,
   "metadata": {
    "execution": {
     "iopub.execute_input": "2021-01-14T21:33:04.988775Z",
     "iopub.status.busy": "2021-01-14T21:33:04.987982Z",
     "iopub.status.idle": "2021-01-14T21:33:10.022283Z",
     "shell.execute_reply": "2021-01-14T21:33:10.021211Z"
    },
    "papermill": {
     "duration": 5.067509,
     "end_time": "2021-01-14T21:33:10.022403",
     "exception": false,
     "start_time": "2021-01-14T21:33:04.954894",
     "status": "completed"
    },
    "tags": []
   },
   "outputs": [],
   "source": [
    "from keras.preprocessing.image import ImageDataGenerator\n",
    "\n",
    "data_generator = ImageDataGenerator(\n",
    "        featurewise_center=False,\n",
    "        samplewise_center=False,\n",
    "        featurewise_std_normalization=False,\n",
    "        samplewise_std_normalization=False,\n",
    "        zca_whitening=False,\n",
    "        horizontal_flip=False,\n",
    "        vertical_flip=False,\n",
    "        rotation_range=10,\n",
    "        zoom_range = 0.1,\n",
    "        width_shift_range=0.1,\n",
    "        height_shift_range=0.1\n",
    "        )\n",
    "\n",
    "\n",
    "data_generator.fit(X_train)"
   ]
  },
  {
   "cell_type": "markdown",
   "metadata": {
    "papermill": {
     "duration": 0.02713,
     "end_time": "2021-01-14T21:33:10.076396",
     "exception": false,
     "start_time": "2021-01-14T21:33:10.049266",
     "status": "completed"
    },
    "tags": []
   },
   "source": [
    "## Building the Keras CNN model"
   ]
  },
  {
   "cell_type": "code",
   "execution_count": 12,
   "metadata": {
    "execution": {
     "iopub.execute_input": "2021-01-14T21:33:10.153714Z",
     "iopub.status.busy": "2021-01-14T21:33:10.152930Z",
     "iopub.status.idle": "2021-01-14T21:33:13.236338Z",
     "shell.execute_reply": "2021-01-14T21:33:13.235594Z"
    },
    "papermill": {
     "duration": 3.13396,
     "end_time": "2021-01-14T21:33:13.236474",
     "exception": false,
     "start_time": "2021-01-14T21:33:10.102514",
     "status": "completed"
    },
    "tags": []
   },
   "outputs": [],
   "source": [
    "from keras.models import Sequential\n",
    "from keras.layers import BatchNormalization, Activation, Dropout, Dense, MaxPooling2D, Conv2D, Flatten\n",
    "from keras.initializers import he_uniform, glorot_uniform\n",
    "from keras.activations import relu\n",
    "from keras.constraints import maxnorm\n",
    "\n",
    "init_relu = he_uniform(seed=157)        # used for ReLU\n",
    "init_tanh = glorot_uniform(seed=157)    # used for tanh and softmax\n",
    "\n",
    "model = Sequential()\n",
    "\n",
    "# input and first Convolutional layer\n",
    "model.add(Conv2D(name='Conv_1', input_shape=(28, 28, 1), filters=64, kernel_size=(3, 3), padding='same', kernel_initializer=init_relu, kernel_constraint=maxnorm(3)))\n",
    "model.add(BatchNormalization())\n",
    "model.add(Activation(relu))\n",
    "\n",
    "\n",
    "# second Convolutional layer and first MaxPooling layer\n",
    "model.add(Conv2D(name='Conv_2', filters=64, kernel_size=(3, 3), padding='same', kernel_initializer=init_relu, kernel_constraint=maxnorm(3)))\n",
    "model.add(BatchNormalization())\n",
    "model.add(Activation(relu))\n",
    "model.add(MaxPooling2D(name='Pooling_1', pool_size=(2, 2), strides=2))\n",
    "model.add(Dropout(0.20))\n",
    "\n",
    "\n",
    "# fourth Convolutional layer\n",
    "model.add(Conv2D(name='Conv_4', filters=32, kernel_size=(3, 3), padding='same', kernel_initializer=init_relu, kernel_constraint=maxnorm(3)))\n",
    "model.add(BatchNormalization())\n",
    "model.add(Activation(relu))\n",
    "\n",
    "\n",
    "# fifth Convolutional layer and second MaxPooling layer\n",
    "model.add(Conv2D(name='Conv_5', filters=32, kernel_size=(3, 3), padding='same', kernel_initializer=init_relu, kernel_constraint=maxnorm(3)))\n",
    "model.add(BatchNormalization())\n",
    "model.add(Activation(relu))\n",
    "model.add(MaxPooling2D(name='Pooling_2', pool_size=(2, 2), strides=2))\n",
    "model.add(Dropout(0.20))\n",
    "\n",
    "\n",
    "# first Dense layer\n",
    "model.add(Flatten())\n",
    "model.add(Dense(name='FC_1', units=512, kernel_initializer=init_relu, kernel_constraint=maxnorm(3)))\n",
    "model.add(BatchNormalization())\n",
    "model.add(Activation(relu))\n",
    "model.add(Dropout(0.20))\n",
    "\n",
    "# second Dense layer\n",
    "model.add(Dense(name='FC_2', units=128, kernel_initializer=init_relu, kernel_constraint=maxnorm(3)))\n",
    "model.add(BatchNormalization())\n",
    "model.add(Activation(relu))\n",
    "\n",
    "# softmax output Dense layer\n",
    "model.add(Dense(name='output', units=10, activation='softmax', kernel_initializer=init_tanh, kernel_constraint=maxnorm(3)))"
   ]
  },
  {
   "cell_type": "markdown",
   "metadata": {
    "papermill": {
     "duration": 0.026663,
     "end_time": "2021-01-14T21:33:13.289651",
     "exception": false,
     "start_time": "2021-01-14T21:33:13.262988",
     "status": "completed"
    },
    "tags": []
   },
   "source": [
    "## Setting all random variables to a single seed for reproducibility"
   ]
  },
  {
   "cell_type": "code",
   "execution_count": 13,
   "metadata": {
    "execution": {
     "iopub.execute_input": "2021-01-14T21:33:13.355466Z",
     "iopub.status.busy": "2021-01-14T21:33:13.353639Z",
     "iopub.status.idle": "2021-01-14T21:33:13.360888Z",
     "shell.execute_reply": "2021-01-14T21:33:13.361770Z"
    },
    "papermill": {
     "duration": 0.046099,
     "end_time": "2021-01-14T21:33:13.361893",
     "exception": false,
     "start_time": "2021-01-14T21:33:13.315794",
     "status": "completed"
    },
    "tags": []
   },
   "outputs": [],
   "source": [
    "import os\n",
    "import random\n",
    "import tensorflow as tf\n",
    "\n",
    "# 1. Set `PYTHONHASHSEED` environment variable at a fixed value\n",
    "\n",
    "os.environ[\"CUDA_DEVICE_ORDER\"] = \"PCI_BUS_ID\"\n",
    "os.environ[\"CUDA_VISIBLE_DEVICES\"] = \"\"\n",
    "os.environ['PYTHONHASHSEED'] = str(157)\n",
    "\n",
    "# 2. Set `python` built-in pseudo-random generator at a fixed value\n",
    "random.seed(157)\n",
    "\n",
    "# 3. Set `numpy` pseudo-random generator at a fixed value\n",
    "np.random.seed(157)\n",
    "\n",
    "# 4. Set `tensorflow` pseudo-random generator at a fixed value\n",
    "tf.compat.v1.set_random_seed(157)\n",
    "\n",
    "# 5. Configure a new global `tensorflow` session\n",
    "from tensorflow.python.keras import backend as k\n",
    "\n",
    "session_conf = tf.compat.v1.ConfigProto(intra_op_parallelism_threads=1,\n",
    "                                        inter_op_parallelism_threads=1)\n",
    "\n",
    "sess = tf.compat.v1.Session(graph=tf.compat.v1.get_default_graph(), config=session_conf)\n",
    "k.set_session(sess)"
   ]
  },
  {
   "cell_type": "markdown",
   "metadata": {
    "papermill": {
     "duration": 0.02871,
     "end_time": "2021-01-14T21:33:13.416760",
     "exception": false,
     "start_time": "2021-01-14T21:33:13.388050",
     "status": "completed"
    },
    "tags": []
   },
   "source": [
    "## Training the network"
   ]
  },
  {
   "cell_type": "code",
   "execution_count": 14,
   "metadata": {
    "execution": {
     "iopub.execute_input": "2021-01-14T21:33:13.486790Z",
     "iopub.status.busy": "2021-01-14T21:33:13.485931Z",
     "iopub.status.idle": "2021-01-14T21:45:52.736794Z",
     "shell.execute_reply": "2021-01-14T21:45:52.735172Z"
    },
    "papermill": {
     "duration": 759.29397,
     "end_time": "2021-01-14T21:45:52.736942",
     "exception": false,
     "start_time": "2021-01-14T21:33:13.442972",
     "status": "completed"
    },
    "tags": []
   },
   "outputs": [
    {
     "name": "stdout",
     "output_type": "stream",
     "text": [
      "Epoch 1/50\n",
      "590/591 [============================>.] - ETA: 0s - loss: 0.2687 - accuracy: 0.9189\n",
      "Epoch 00001: val_loss improved from inf to 0.08681, saving model to neural_network_checkpoint_training.h5\n",
      "591/591 [==============================] - 16s 27ms/step - loss: 0.2684 - accuracy: 0.9190 - val_loss: 0.0868 - val_accuracy: 0.9729\n",
      "Epoch 2/50\n",
      "590/591 [============================>.] - ETA: 0s - loss: 0.0929 - accuracy: 0.9723\n",
      "Epoch 00002: val_loss improved from 0.08681 to 0.05786, saving model to neural_network_checkpoint_training.h5\n",
      "591/591 [==============================] - 16s 28ms/step - loss: 0.0931 - accuracy: 0.9722 - val_loss: 0.0579 - val_accuracy: 0.9817\n",
      "Epoch 3/50\n",
      "591/591 [==============================] - ETA: 0s - loss: 0.0699 - accuracy: 0.9789\n",
      "Epoch 00003: val_loss improved from 0.05786 to 0.03251, saving model to neural_network_checkpoint_training.h5\n",
      "591/591 [==============================] - 15s 26ms/step - loss: 0.0699 - accuracy: 0.9789 - val_loss: 0.0325 - val_accuracy: 0.9893\n",
      "Epoch 4/50\n",
      "591/591 [==============================] - ETA: 0s - loss: 0.0597 - accuracy: 0.9819\n",
      "Epoch 00004: val_loss improved from 0.03251 to 0.02748, saving model to neural_network_checkpoint_training.h5\n",
      "591/591 [==============================] - 15s 26ms/step - loss: 0.0597 - accuracy: 0.9819 - val_loss: 0.0275 - val_accuracy: 0.9910\n",
      "Epoch 5/50\n",
      "591/591 [==============================] - ETA: 0s - loss: 0.0492 - accuracy: 0.9848\n",
      "Epoch 00005: val_loss did not improve from 0.02748\n",
      "591/591 [==============================] - 15s 25ms/step - loss: 0.0492 - accuracy: 0.9848 - val_loss: 0.0306 - val_accuracy: 0.9900\n",
      "Epoch 6/50\n",
      "591/591 [==============================] - ETA: 0s - loss: 0.0481 - accuracy: 0.9847\n",
      "Epoch 00006: val_loss improved from 0.02748 to 0.02609, saving model to neural_network_checkpoint_training.h5\n",
      "591/591 [==============================] - 16s 27ms/step - loss: 0.0481 - accuracy: 0.9847 - val_loss: 0.0261 - val_accuracy: 0.9921\n",
      "Epoch 7/50\n",
      "590/591 [============================>.] - ETA: 0s - loss: 0.0401 - accuracy: 0.9875\n",
      "Epoch 00007: val_loss did not improve from 0.02609\n",
      "591/591 [==============================] - 14s 24ms/step - loss: 0.0401 - accuracy: 0.9876 - val_loss: 0.0339 - val_accuracy: 0.9905\n",
      "Epoch 8/50\n",
      "590/591 [============================>.] - ETA: 0s - loss: 0.0387 - accuracy: 0.9872\n",
      "Epoch 00008: val_loss improved from 0.02609 to 0.01898, saving model to neural_network_checkpoint_training.h5\n",
      "591/591 [==============================] - 15s 25ms/step - loss: 0.0386 - accuracy: 0.9872 - val_loss: 0.0190 - val_accuracy: 0.9914\n",
      "Epoch 9/50\n",
      "590/591 [============================>.] - ETA: 0s - loss: 0.0333 - accuracy: 0.9902\n",
      "Epoch 00009: val_loss did not improve from 0.01898\n",
      "591/591 [==============================] - 16s 26ms/step - loss: 0.0333 - accuracy: 0.9902 - val_loss: 0.0201 - val_accuracy: 0.9931\n",
      "Epoch 10/50\n",
      "590/591 [============================>.] - ETA: 0s - loss: 0.0313 - accuracy: 0.9901\n",
      "Epoch 00010: val_loss improved from 0.01898 to 0.01662, saving model to neural_network_checkpoint_training.h5\n",
      "591/591 [==============================] - 15s 25ms/step - loss: 0.0313 - accuracy: 0.9901 - val_loss: 0.0166 - val_accuracy: 0.9950\n",
      "Epoch 11/50\n",
      "589/591 [============================>.] - ETA: 0s - loss: 0.0288 - accuracy: 0.9907\n",
      "Epoch 00011: val_loss improved from 0.01662 to 0.01588, saving model to neural_network_checkpoint_training.h5\n",
      "591/591 [==============================] - 15s 25ms/step - loss: 0.0289 - accuracy: 0.9907 - val_loss: 0.0159 - val_accuracy: 0.9948\n",
      "Epoch 12/50\n",
      "590/591 [============================>.] - ETA: 0s - loss: 0.0291 - accuracy: 0.9908\n",
      "Epoch 00012: val_loss did not improve from 0.01588\n",
      "591/591 [==============================] - 14s 24ms/step - loss: 0.0293 - accuracy: 0.9908 - val_loss: 0.0235 - val_accuracy: 0.9921\n",
      "Epoch 13/50\n",
      "590/591 [============================>.] - ETA: 0s - loss: 0.0295 - accuracy: 0.9914\n",
      "Epoch 00013: val_loss did not improve from 0.01588\n",
      "591/591 [==============================] - 15s 25ms/step - loss: 0.0295 - accuracy: 0.9914 - val_loss: 0.0173 - val_accuracy: 0.9936\n",
      "Epoch 14/50\n",
      "590/591 [============================>.] - ETA: 0s - loss: 0.0259 - accuracy: 0.9921\n",
      "Epoch 00014: val_loss did not improve from 0.01588\n",
      "591/591 [==============================] - 14s 24ms/step - loss: 0.0259 - accuracy: 0.9921 - val_loss: 0.0168 - val_accuracy: 0.9936\n",
      "Epoch 15/50\n",
      "591/591 [==============================] - ETA: 0s - loss: 0.0254 - accuracy: 0.9917\n",
      "Epoch 00015: val_loss did not improve from 0.01588\n",
      "591/591 [==============================] - 15s 26ms/step - loss: 0.0254 - accuracy: 0.9917 - val_loss: 0.0162 - val_accuracy: 0.9950\n",
      "Epoch 16/50\n",
      "590/591 [============================>.] - ETA: 0s - loss: 0.0235 - accuracy: 0.9922\n",
      "Epoch 00016: val_loss did not improve from 0.01588\n",
      "591/591 [==============================] - 13s 23ms/step - loss: 0.0235 - accuracy: 0.9922 - val_loss: 0.0173 - val_accuracy: 0.9952\n",
      "Epoch 17/50\n",
      "589/591 [============================>.] - ETA: 0s - loss: 0.0214 - accuracy: 0.9934\n",
      "Epoch 00017: val_loss did not improve from 0.01588\n",
      "591/591 [==============================] - 14s 24ms/step - loss: 0.0215 - accuracy: 0.9934 - val_loss: 0.0167 - val_accuracy: 0.9952\n",
      "Epoch 18/50\n",
      "591/591 [==============================] - ETA: 0s - loss: 0.0232 - accuracy: 0.9926\n",
      "Epoch 00018: val_loss did not improve from 0.01588\n",
      "591/591 [==============================] - 15s 26ms/step - loss: 0.0232 - accuracy: 0.9926 - val_loss: 0.0161 - val_accuracy: 0.9948\n",
      "Epoch 19/50\n",
      "589/591 [============================>.] - ETA: 0s - loss: 0.0201 - accuracy: 0.9933\n",
      "Epoch 00019: val_loss improved from 0.01588 to 0.01549, saving model to neural_network_checkpoint_training.h5\n",
      "591/591 [==============================] - 14s 24ms/step - loss: 0.0200 - accuracy: 0.9933 - val_loss: 0.0155 - val_accuracy: 0.9960\n",
      "Epoch 20/50\n",
      "591/591 [==============================] - ETA: 0s - loss: 0.0206 - accuracy: 0.9935\n",
      "Epoch 00020: val_loss improved from 0.01549 to 0.01498, saving model to neural_network_checkpoint_training.h5\n",
      "591/591 [==============================] - 14s 24ms/step - loss: 0.0206 - accuracy: 0.9935 - val_loss: 0.0150 - val_accuracy: 0.9957\n",
      "Epoch 21/50\n",
      "591/591 [==============================] - ETA: 0s - loss: 0.0211 - accuracy: 0.9933\n",
      "Epoch 00021: val_loss did not improve from 0.01498\n",
      "591/591 [==============================] - 14s 24ms/step - loss: 0.0211 - accuracy: 0.9933 - val_loss: 0.0170 - val_accuracy: 0.9952\n",
      "Epoch 22/50\n",
      "590/591 [============================>.] - ETA: 0s - loss: 0.0195 - accuracy: 0.9943\n",
      "Epoch 00022: val_loss did not improve from 0.01498\n",
      "591/591 [==============================] - 15s 25ms/step - loss: 0.0195 - accuracy: 0.9943 - val_loss: 0.0197 - val_accuracy: 0.9943\n",
      "Epoch 23/50\n",
      "589/591 [============================>.] - ETA: 0s - loss: 0.0194 - accuracy: 0.9936\n",
      "Epoch 00023: val_loss did not improve from 0.01498\n",
      "591/591 [==============================] - 13s 22ms/step - loss: 0.0194 - accuracy: 0.9936 - val_loss: 0.0162 - val_accuracy: 0.9945\n",
      "Epoch 24/50\n",
      "589/591 [============================>.] - ETA: 0s - loss: 0.0176 - accuracy: 0.9947\n",
      "Epoch 00024: val_loss improved from 0.01498 to 0.01483, saving model to neural_network_checkpoint_training.h5\n",
      "591/591 [==============================] - 15s 26ms/step - loss: 0.0176 - accuracy: 0.9947 - val_loss: 0.0148 - val_accuracy: 0.9955\n",
      "Epoch 25/50\n",
      "590/591 [============================>.] - ETA: 0s - loss: 0.0170 - accuracy: 0.9944\n",
      "Epoch 00025: val_loss improved from 0.01483 to 0.01355, saving model to neural_network_checkpoint_training.h5\n",
      "591/591 [==============================] - 49s 83ms/step - loss: 0.0170 - accuracy: 0.9944 - val_loss: 0.0135 - val_accuracy: 0.9950\n",
      "Epoch 26/50\n",
      "590/591 [============================>.] - ETA: 0s - loss: 0.0164 - accuracy: 0.9947\n",
      "Epoch 00026: val_loss did not improve from 0.01355\n",
      "591/591 [==============================] - 15s 25ms/step - loss: 0.0164 - accuracy: 0.9947 - val_loss: 0.0158 - val_accuracy: 0.9945\n",
      "Epoch 27/50\n",
      "591/591 [==============================] - ETA: 0s - loss: 0.0164 - accuracy: 0.9950\n",
      "Epoch 00027: val_loss did not improve from 0.01355\n",
      "591/591 [==============================] - 13s 22ms/step - loss: 0.0164 - accuracy: 0.9950 - val_loss: 0.0166 - val_accuracy: 0.9948\n",
      "Epoch 28/50\n",
      "590/591 [============================>.] - ETA: 0s - loss: 0.0159 - accuracy: 0.9950\n",
      "Epoch 00028: val_loss improved from 0.01355 to 0.01301, saving model to neural_network_checkpoint_training.h5\n",
      "591/591 [==============================] - 14s 23ms/step - loss: 0.0159 - accuracy: 0.9950 - val_loss: 0.0130 - val_accuracy: 0.9957\n",
      "Epoch 29/50\n",
      "590/591 [============================>.] - ETA: 0s - loss: 0.0172 - accuracy: 0.9948\n",
      "Epoch 00029: val_loss did not improve from 0.01301\n",
      "591/591 [==============================] - 15s 26ms/step - loss: 0.0172 - accuracy: 0.9948 - val_loss: 0.0138 - val_accuracy: 0.9943\n",
      "Epoch 30/50\n",
      "590/591 [============================>.] - ETA: 0s - loss: 0.0156 - accuracy: 0.9950\n",
      "Epoch 00030: val_loss did not improve from 0.01301\n",
      "591/591 [==============================] - 13s 22ms/step - loss: 0.0156 - accuracy: 0.9949 - val_loss: 0.0144 - val_accuracy: 0.9945\n",
      "Epoch 31/50\n",
      "591/591 [==============================] - ETA: 0s - loss: 0.0146 - accuracy: 0.9952\n",
      "Epoch 00031: val_loss did not improve from 0.01301\n",
      "591/591 [==============================] - 13s 23ms/step - loss: 0.0146 - accuracy: 0.9952 - val_loss: 0.0139 - val_accuracy: 0.9945\n",
      "Epoch 32/50\n",
      "589/591 [============================>.] - ETA: 0s - loss: 0.0147 - accuracy: 0.9955\n",
      "Epoch 00032: val_loss did not improve from 0.01301\n",
      "591/591 [==============================] - 14s 23ms/step - loss: 0.0146 - accuracy: 0.9955 - val_loss: 0.0147 - val_accuracy: 0.9955\n",
      "Epoch 33/50\n",
      "590/591 [============================>.] - ETA: 0s - loss: 0.0153 - accuracy: 0.9949\n",
      "Epoch 00033: val_loss did not improve from 0.01301\n",
      "591/591 [==============================] - 13s 22ms/step - loss: 0.0152 - accuracy: 0.9949 - val_loss: 0.0140 - val_accuracy: 0.9950\n",
      "Epoch 34/50\n",
      "591/591 [==============================] - ETA: 0s - loss: 0.0143 - accuracy: 0.9954\n",
      "Epoch 00034: val_loss did not improve from 0.01301\n",
      "591/591 [==============================] - 16s 26ms/step - loss: 0.0143 - accuracy: 0.9954 - val_loss: 0.0137 - val_accuracy: 0.9948\n",
      "Epoch 35/50\n",
      "590/591 [============================>.] - ETA: 0s - loss: 0.0138 - accuracy: 0.9955\n",
      "Epoch 00035: val_loss did not improve from 0.01301\n",
      "591/591 [==============================] - 13s 22ms/step - loss: 0.0138 - accuracy: 0.9955 - val_loss: 0.0132 - val_accuracy: 0.9957\n",
      "Epoch 36/50\n",
      "591/591 [==============================] - ETA: 0s - loss: 0.0147 - accuracy: 0.9952\n",
      "Epoch 00036: val_loss did not improve from 0.01301\n",
      "591/591 [==============================] - 14s 24ms/step - loss: 0.0147 - accuracy: 0.9952 - val_loss: 0.0144 - val_accuracy: 0.9952\n",
      "Epoch 37/50\n",
      "591/591 [==============================] - ETA: 0s - loss: 0.0134 - accuracy: 0.9958\n",
      "Epoch 00037: val_loss did not improve from 0.01301\n",
      "591/591 [==============================] - 13s 23ms/step - loss: 0.0134 - accuracy: 0.9958 - val_loss: 0.0147 - val_accuracy: 0.9955\n",
      "Epoch 38/50\n",
      "591/591 [==============================] - ETA: 0s - loss: 0.0130 - accuracy: 0.9959\n",
      "Epoch 00038: val_loss did not improve from 0.01301\n",
      "591/591 [==============================] - 15s 26ms/step - loss: 0.0130 - accuracy: 0.9959 - val_loss: 0.0142 - val_accuracy: 0.9952\n",
      "Epoch 39/50\n",
      "589/591 [============================>.] - ETA: 0s - loss: 0.0134 - accuracy: 0.9956\n",
      "Epoch 00039: val_loss did not improve from 0.01301\n",
      "591/591 [==============================] - 13s 21ms/step - loss: 0.0134 - accuracy: 0.9956 - val_loss: 0.0137 - val_accuracy: 0.9957\n",
      "Epoch 40/50\n",
      "591/591 [==============================] - ETA: 0s - loss: 0.0130 - accuracy: 0.9958\n",
      "Epoch 00040: val_loss did not improve from 0.01301\n",
      "591/591 [==============================] - 13s 22ms/step - loss: 0.0130 - accuracy: 0.9958 - val_loss: 0.0135 - val_accuracy: 0.9957\n",
      "Epoch 41/50\n",
      "591/591 [==============================] - ETA: 0s - loss: 0.0125 - accuracy: 0.9959\n",
      "Epoch 00041: val_loss did not improve from 0.01301\n",
      "591/591 [==============================] - 15s 25ms/step - loss: 0.0125 - accuracy: 0.9959 - val_loss: 0.0131 - val_accuracy: 0.9962\n",
      "Epoch 42/50\n",
      "590/591 [============================>.] - ETA: 0s - loss: 0.0126 - accuracy: 0.9959\n",
      "Epoch 00042: val_loss improved from 0.01301 to 0.01252, saving model to neural_network_checkpoint_training.h5\n",
      "591/591 [==============================] - 13s 22ms/step - loss: 0.0126 - accuracy: 0.9959 - val_loss: 0.0125 - val_accuracy: 0.9957\n",
      "Epoch 43/50\n",
      "589/591 [============================>.] - ETA: 0s - loss: 0.0121 - accuracy: 0.9960\n",
      "Epoch 00043: val_loss improved from 0.01252 to 0.01217, saving model to neural_network_checkpoint_training.h5\n",
      "591/591 [==============================] - 16s 26ms/step - loss: 0.0122 - accuracy: 0.9960 - val_loss: 0.0122 - val_accuracy: 0.9962\n",
      "Epoch 44/50\n",
      "591/591 [==============================] - ETA: 0s - loss: 0.0134 - accuracy: 0.9958\n",
      "Epoch 00044: val_loss improved from 0.01217 to 0.01148, saving model to neural_network_checkpoint_training.h5\n",
      "591/591 [==============================] - 13s 22ms/step - loss: 0.0134 - accuracy: 0.9958 - val_loss: 0.0115 - val_accuracy: 0.9964\n",
      "Epoch 45/50\n",
      "590/591 [============================>.] - ETA: 0s - loss: 0.0120 - accuracy: 0.9963\n",
      "Epoch 00045: val_loss did not improve from 0.01148\n",
      "591/591 [==============================] - 14s 25ms/step - loss: 0.0119 - accuracy: 0.9963 - val_loss: 0.0125 - val_accuracy: 0.9962\n",
      "Epoch 46/50\n",
      "589/591 [============================>.] - ETA: 0s - loss: 0.0114 - accuracy: 0.9963\n",
      "Epoch 00046: val_loss did not improve from 0.01148\n",
      "591/591 [==============================] - 13s 22ms/step - loss: 0.0114 - accuracy: 0.9963 - val_loss: 0.0133 - val_accuracy: 0.9957\n",
      "Epoch 47/50\n",
      "591/591 [==============================] - ETA: 0s - loss: 0.0120 - accuracy: 0.9962\n",
      "Epoch 00047: val_loss did not improve from 0.01148\n",
      "591/591 [==============================] - 13s 21ms/step - loss: 0.0120 - accuracy: 0.9962 - val_loss: 0.0143 - val_accuracy: 0.9955\n",
      "Epoch 48/50\n",
      "589/591 [============================>.] - ETA: 0s - loss: 0.0119 - accuracy: 0.9960\n",
      "Epoch 00048: val_loss did not improve from 0.01148\n",
      "591/591 [==============================] - 16s 26ms/step - loss: 0.0119 - accuracy: 0.9961 - val_loss: 0.0125 - val_accuracy: 0.9957\n",
      "Epoch 49/50\n",
      "589/591 [============================>.] - ETA: 0s - loss: 0.0127 - accuracy: 0.9963\n",
      "Epoch 00049: val_loss did not improve from 0.01148\n",
      "591/591 [==============================] - 14s 23ms/step - loss: 0.0127 - accuracy: 0.9963 - val_loss: 0.0132 - val_accuracy: 0.9957\n",
      "Epoch 50/50\n",
      "590/591 [============================>.] - ETA: 0s - loss: 0.0117 - accuracy: 0.9961\n",
      "Epoch 00050: val_loss did not improve from 0.01148\n",
      "591/591 [==============================] - 14s 23ms/step - loss: 0.0117 - accuracy: 0.9961 - val_loss: 0.0127 - val_accuracy: 0.9955\n"
     ]
    }
   ],
   "source": [
    "from keras.callbacks import ModelCheckpoint, EarlyStopping, TensorBoard, LearningRateScheduler\n",
    "from keras.optimizers import Adam\n",
    "from keras.models import save_model\n",
    "\n",
    "\n",
    "lr = 0.001\n",
    "\n",
    "opt = Adam(learning_rate=lr, amsgrad=True)\n",
    "\n",
    "model.compile(optimizer=opt,\n",
    "            loss='categorical_crossentropy',\n",
    "            metrics=['accuracy'])\n",
    "\n",
    "checkpoint = ModelCheckpoint('neural_network_checkpoint_training.h5', monitor='val_loss', verbose=1, save_best_only=True, mode='min')\n",
    "lr_decay = LearningRateScheduler(lambda x: lr * 0.95 ** x)\n",
    "\n",
    "tensorboard = TensorBoard(log_dir='./logs',\n",
    "                          histogram_freq=0,\n",
    "                          write_graph=True,\n",
    "                          write_images=True)\n",
    "\n",
    "model.fit_generator(data_generator.flow(X_train, y_train, batch_size=64),\n",
    "        epochs=50,\n",
    "        validation_data=(X_val, y_val),\n",
    "        shuffle=True,\n",
    "        callbacks=[tensorboard, checkpoint, lr_decay],\n",
    "        verbose=1)\n",
    "\n",
    "save_model(checkpoint.model, 'neural_network_latest_saved.h5')"
   ]
  },
  {
   "cell_type": "markdown",
   "metadata": {
    "papermill": {
     "duration": 4.056293,
     "end_time": "2021-01-14T21:46:00.641205",
     "exception": false,
     "start_time": "2021-01-14T21:45:56.584912",
     "status": "completed"
    },
    "tags": []
   },
   "source": [
    "## The final prediction and submission"
   ]
  },
  {
   "cell_type": "code",
   "execution_count": 15,
   "metadata": {
    "execution": {
     "iopub.execute_input": "2021-01-14T21:46:08.278510Z",
     "iopub.status.busy": "2021-01-14T21:46:08.277553Z",
     "iopub.status.idle": "2021-01-14T21:46:10.728408Z",
     "shell.execute_reply": "2021-01-14T21:46:10.727309Z"
    },
    "papermill": {
     "duration": 6.253138,
     "end_time": "2021-01-14T21:46:10.728526",
     "exception": false,
     "start_time": "2021-01-14T21:46:04.475388",
     "status": "completed"
    },
    "tags": []
   },
   "outputs": [],
   "source": [
    "from keras.models import load_model\n",
    "\n",
    "clf = load_model('neural_network_checkpoint_training.h5')\n",
    "\n",
    "prediction = clf.predict(test_data)\n",
    "\n",
    "prediction = pd.DataFrame(np.argmax(prediction, axis=-1), columns=['Label'])\n",
    "img_idx = pd.DataFrame(np.arange(1, len(prediction) + 1), columns=['ImageId'])\n",
    "\n",
    "prediction = pd.concat([img_idx, prediction], axis=1)\n",
    "\n",
    "prediction.to_csv('submission_cnn.csv', index=False)"
   ]
  },
  {
   "cell_type": "markdown",
   "metadata": {
    "papermill": {
     "duration": 4.212962,
     "end_time": "2021-01-14T21:46:18.782586",
     "exception": false,
     "start_time": "2021-01-14T21:46:14.569624",
     "status": "completed"
    },
    "tags": []
   },
   "source": [
    "# Conclusion\n",
    "\n",
    "With sufficient data augmentation and tuning of the architecture and hyperparameters of the Convolutional Neural Network, we achieve a significant accuracy of ~99.6%, which more than acceptable for the task at hand. This further proves the point that artificial intelligence is the best new approach to the problem of computer vision, that will only continue to get better and better."
   ]
  }
 ],
 "metadata": {
  "kernelspec": {
   "display_name": "Python 3",
   "language": "python",
   "name": "python3"
  },
  "language_info": {
   "codemirror_mode": {
    "name": "ipython",
    "version": 3
   },
   "file_extension": ".py",
   "mimetype": "text/x-python",
   "name": "python",
   "nbconvert_exporter": "python",
   "pygments_lexer": "ipython3",
   "version": "3.7.6"
  },
  "papermill": {
   "duration": 815.951356,
   "end_time": "2021-01-14T21:46:23.943610",
   "environment_variables": {},
   "exception": null,
   "input_path": "__notebook__.ipynb",
   "output_path": "__notebook__.ipynb",
   "parameters": {},
   "start_time": "2021-01-14T21:32:47.992254",
   "version": "2.1.0"
  }
 },
 "nbformat": 4,
 "nbformat_minor": 4
}
